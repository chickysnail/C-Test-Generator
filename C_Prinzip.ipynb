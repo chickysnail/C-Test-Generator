{
  "cells": [
    {
      "cell_type": "code",
      "execution_count": 31,
      "metadata": {
        "colab": {
          "base_uri": "https://localhost:8080/"
        },
        "id": "ks5Az1XMG2I4",
        "outputId": "d7d2b512-4484-4d38-e740-6f5affd8850a"
      },
      "outputs": [
        {
          "name": "stderr",
          "output_type": "stream",
          "text": [
            "[nltk_data] Downloading package punkt to /root/nltk_data...\n",
            "[nltk_data]   Package punkt is already up-to-date!\n"
          ]
        }
      ],
      "source": [
        "import re, string\n",
        "import nltk\n",
        "nltk.download('punkt')  # Download the necessary tokenizer data (if not already downloaded)\n",
        "from nltk.tokenize import sent_tokenize"
      ]
    },
    {
      "cell_type": "code",
      "execution_count": 32,
      "metadata": {
        "colab": {
          "base_uri": "https://localhost:8080/"
        },
        "id": "mNIxzzpSH3UF",
        "outputId": "d5ffb3cc-7149-42c8-ef9c-2e64e8c5c3d2"
      },
      "outputs": [
        {
          "name": "stdout",
          "output_type": "stream",
          "text": [
            "['Das ist ein Beispieltext!', 'Er zeigt, wie man Sätze in Python teilen kann.']\n"
          ]
        }
      ],
      "source": [
        "def divide_into_sentences(german_text):\n",
        "    sentences = sent_tokenize(german_text, language='german')\n",
        "    return sentences\n",
        "\n",
        "# Example usage\n",
        "german_text = \"Das ist ein Beispieltext! Er zeigt, wie man Sätze in Python teilen kann.\"\n",
        "sentences = divide_into_sentences(german_text)\n",
        "print(sentences)\n"
      ]
    },
    {
      "cell_type": "code",
      "execution_count": 33,
      "metadata": {
        "colab": {
          "base_uri": "https://localhost:8080/"
        },
        "id": "WSQnTfUqIMrF",
        "outputId": "2421124f-1e10-411c-da64-f25939e57ca1"
      },
      "outputs": [
        {
          "name": "stdout",
          "output_type": "stream",
          "text": [
            "['Hello,', 'this', 'is', 'an', 'example', 'sentence', 'with', 'some', 'punctuation!']\n"
          ]
        }
      ],
      "source": [
        "def extract_words(sentence):\n",
        "    words = sentence.split()\n",
        "    return words\n",
        "\n",
        "# Example usage\n",
        "input_sentence = \"Hello, this is an example sentence with some punctuation!\"\n",
        "word_array = extract_words(input_sentence)\n",
        "print(word_array)\n"
      ]
    },
    {
      "cell_type": "code",
      "execution_count": 34,
      "metadata": {
        "colab": {
          "base_uri": "https://localhost:8080/"
        },
        "id": "R9HjS4f9lFa8",
        "outputId": "c0b1c15a-4ca7-4130-c531-04ac2d67aa06"
      },
      "outputs": [
        {
          "name": "stdout",
          "output_type": "stream",
          "text": [
            "exa_?\n"
          ]
        }
      ],
      "source": [
        "def delete_second_half(word):\n",
        "    punctuation = ''\n",
        "    if word[-1] in '.,;!?':\n",
        "        punctuation = word[-1]\n",
        "        word = word[:-1]\n",
        "\n",
        "    length = len(word)\n",
        "    half_length = length // 2\n",
        "    first_half = word[:half_length]\n",
        "    return first_half + \"_\" + punctuation\n",
        "\n",
        "# Example usage\n",
        "input_word = \"example?\"\n",
        "result = delete_second_half(input_word)\n",
        "print(result)\n"
      ]
    },
    {
      "cell_type": "code",
      "execution_count": 35,
      "metadata": {
        "colab": {
          "base_uri": "https://localhost:8080/"
        },
        "id": "3qBuSvxSkiAh",
        "outputId": "bc664688-066b-4606-f837-43f77ed6cacb"
      },
      "outputs": [
        {
          "name": "stdout",
          "output_type": "stream",
          "text": [
            "['Hello', 'th_', 'is', 'a_', 'example', 'sent_', 'with', 'so_', 'punctuation']\n"
          ]
        }
      ],
      "source": [
        "def apply_function_to_second_long_words(word_array, some_function):\n",
        "    new_word_array = []\n",
        "\n",
        "    for i, word in enumerate(word_array):\n",
        "        if i % 2 == 1 and len(word) > 1:\n",
        "            new_word_array.append(some_function(word))\n",
        "        else:\n",
        "            new_word_array.append(word)\n",
        "\n",
        "    return new_word_array\n",
        "\n",
        "\n",
        "# Example usage\n",
        "input_words = ['Hello', 'this', 'is', 'an', 'example', 'sentence', 'with', 'some', 'punctuation']\n",
        "new_words = apply_function_to_second_long_words(input_words, delete_second_half)\n",
        "print(new_words)"
      ]
    },
    {
      "cell_type": "code",
      "execution_count": 36,
      "metadata": {
        "colab": {
          "base_uri": "https://localhost:8080/"
        },
        "id": "cneOAqmrmKBh",
        "outputId": "1c1efbb3-b761-41cf-ccbc-c81456234600"
      },
      "outputs": [
        {
          "name": "stdout",
          "output_type": "stream",
          "text": [
            "Die Biodiversität, also die Vielfalt des Lebens auf der Erde, ist von entscheidender Bedeutung für die Umwelt. Sie sic_ Ökosysteme, regu_ Klima u_ Nährstoffkreisläufe, so_ die Bestä_ von Pfla_. Doch bedro_ Umweltfaktoren w_ Klimawandel u_ Habitatverlust gefä_ diese Viel_. Der Sch_ der Biodiv_ ist da_ essenziell, u_ Ökosysteme widersta_ zu hal_. Durch nachh_ Landnutzung, Schutz_ und interna_ Zusammenarbeit kön_ wir d_ Rückgang d_ Artenvielfalt entgege_. Indem wir unsere Konsumgewohnheiten überdenken und natürliche Ressourcen schonen, tragen wir zur Bewahrung der Umwelt und der Biodiversität bei, um zukünftigen Generationen eine intakte Erde zu übergeben.\n"
          ]
        }
      ],
      "source": [
        "def apply_c_principle(german_text):\n",
        "    sentences = divide_into_sentences(german_text)\n",
        "    result = []\n",
        "\n",
        "    for i, sentence in enumerate(sentences):\n",
        "        if i == 0 or i == len(sentences) - 1:\n",
        "            result.append(sentence)\n",
        "        else:\n",
        "            words = extract_words(sentence)\n",
        "            new_words = apply_function_to_second_long_words(words, delete_second_half)\n",
        "            new_sentence = ' '.join(new_words)\n",
        "            result.append(new_sentence)\n",
        "\n",
        "    return ' '.join(result)\n",
        "\n",
        "text = \"Die Biodiversität, also die Vielfalt des Lebens auf der Erde, ist von entscheidender Bedeutung für die Umwelt. Sie sichert Ökosysteme, reguliert Klima und Nährstoffkreisläufe, sowie die Bestäubung von Pflanzen. Doch bedrohliche Umweltfaktoren wie Klimawandel und Habitatverlust gefährden diese Vielfalt. Der Schutz der Biodiversität ist daher essenziell, um Ökosysteme widerstandsfähig zu halten. Durch nachhaltige Landnutzung, Schutzgebiete und internationale Zusammenarbeit können wir dem Rückgang der Artenvielfalt entgegenwirken. Indem wir unsere Konsumgewohnheiten überdenken und natürliche Ressourcen schonen, tragen wir zur Bewahrung der Umwelt und der Biodiversität bei, um zukünftigen Generationen eine intakte Erde zu übergeben.\"\n",
        "result_text = apply_c_principle(text)\n",
        "print(result_text)\n"
      ]
    }
  ],
  "metadata": {
    "colab": {
      "provenance": []
    },
    "kernelspec": {
      "display_name": "Python 3",
      "name": "python3"
    },
    "language_info": {
      "codemirror_mode": {
        "name": "ipython",
        "version": 3
      },
      "file_extension": ".py",
      "mimetype": "text/x-python",
      "name": "python",
      "nbconvert_exporter": "python",
      "pygments_lexer": "ipython3",
      "version": "3.10.11"
    }
  },
  "nbformat": 4,
  "nbformat_minor": 0
}
